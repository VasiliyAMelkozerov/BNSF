{
 "cells": [
  {
   "cell_type": "code",
   "execution_count": 2,
   "id": "6cc73f68",
   "metadata": {},
   "outputs": [
    {
     "name": "stdout",
     "output_type": "stream",
     "text": [
      "Acquire/ reading into quarterly reports\n"
     ]
    }
   ],
   "source": [
    "print(\"Acquire/ reading into quarterly reports\")"
   ]
  },
  {
   "cell_type": "markdown",
   "id": "0395c3e3",
   "metadata": {},
   "source": [
    "[First reference material](https://www.investopedia.com/articles/fundamental-analysis/10/decoding-earnings-reports.asp)"
   ]
  },
  {
   "cell_type": "code",
   "execution_count": null,
   "id": "dbb34550",
   "metadata": {},
   "outputs": [],
   "source": []
  }
 ],
 "metadata": {
  "kernelspec": {
   "display_name": "Python 3 (ipykernel)",
   "language": "python",
   "name": "python3"
  },
  "language_info": {
   "codemirror_mode": {
    "name": "ipython",
    "version": 3
   },
   "file_extension": ".py",
   "mimetype": "text/x-python",
   "name": "python",
   "nbconvert_exporter": "python",
   "pygments_lexer": "ipython3",
   "version": "3.9.7"
  }
 },
 "nbformat": 4,
 "nbformat_minor": 5
}
